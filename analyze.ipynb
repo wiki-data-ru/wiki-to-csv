{
 "cells": [
  {
   "cell_type": "code",
   "execution_count": 1,
   "metadata": {},
   "outputs": [],
   "source": [
    "import pandas as pd"
   ]
  },
  {
   "cell_type": "code",
   "execution_count": 4,
   "metadata": {},
   "outputs": [
    {
     "data": {
      "text/html": [
       "<div>\n",
       "<style scoped>\n",
       "    .dataframe tbody tr th:only-of-type {\n",
       "        vertical-align: middle;\n",
       "    }\n",
       "\n",
       "    .dataframe tbody tr th {\n",
       "        vertical-align: top;\n",
       "    }\n",
       "\n",
       "    .dataframe thead th {\n",
       "        text-align: right;\n",
       "    }\n",
       "</style>\n",
       "<table border=\"1\" class=\"dataframe\">\n",
       "  <thead>\n",
       "    <tr style=\"text-align: right;\">\n",
       "      <th></th>\n",
       "      <th>Unnamed: 0</th>\n",
       "      <th>title</th>\n",
       "      <th>text</th>\n",
       "    </tr>\n",
       "  </thead>\n",
       "  <tbody>\n",
       "    <tr>\n",
       "      <th>35</th>\n",
       "      <td>35</td>\n",
       "      <td>Бионикл 3: В паутине теней</td>\n",
       "      <td>«Бионикл 3: В паутине теней» (англ. Bionicle 3...</td>\n",
       "    </tr>\n",
       "    <tr>\n",
       "      <th>36</th>\n",
       "      <td>36</td>\n",
       "      <td>Легенды Чимы</td>\n",
       "      <td>Легенды Чимы (англ. Legends of Chima) — датско...</td>\n",
       "    </tr>\n",
       "    <tr>\n",
       "      <th>37</th>\n",
       "      <td>37</td>\n",
       "      <td>Лего</td>\n",
       "      <td>Lego (ле́го, от дат. Leg-godt — «играй хорошо»...</td>\n",
       "    </tr>\n",
       "    <tr>\n",
       "      <th>38</th>\n",
       "      <td>38</td>\n",
       "      <td>Лего. Фильм</td>\n",
       "      <td>«Лего. Фильм» (англ. The LEGO Movie) — америка...</td>\n",
       "    </tr>\n",
       "    <tr>\n",
       "      <th>39</th>\n",
       "      <td>39</td>\n",
       "      <td>Лего. Фильм 2</td>\n",
       "      <td>«Лего. Фильм 2» (англ. The Lego Movie 2: The S...</td>\n",
       "    </tr>\n",
       "  </tbody>\n",
       "</table>\n",
       "</div>"
      ],
      "text/plain": [
       "    Unnamed: 0                       title   \n",
       "35          35  Бионикл 3: В паутине теней  \\\n",
       "36          36                Легенды Чимы   \n",
       "37          37                        Лего   \n",
       "38          38                 Лего. Фильм   \n",
       "39          39               Лего. Фильм 2   \n",
       "\n",
       "                                                 text  \n",
       "35  «Бионикл 3: В паутине теней» (англ. Bionicle 3...  \n",
       "36  Легенды Чимы (англ. Legends of Chima) — датско...  \n",
       "37  Lego (ле́го, от дат. Leg-godt — «играй хорошо»...  \n",
       "38  «Лего. Фильм» (англ. The LEGO Movie) — америка...  \n",
       "39  «Лего. Фильм 2» (англ. The Lego Movie 2: The S...  "
      ]
     },
     "execution_count": 4,
     "metadata": {},
     "output_type": "execute_result"
    }
   ],
   "source": [
    "df = pd.read_csv('./data/page_full.csv')\n",
    "df.tail()"
   ]
  },
  {
   "cell_type": "code",
   "execution_count": null,
   "metadata": {},
   "outputs": [],
   "source": []
  }
 ],
 "metadata": {
  "kernelspec": {
   "display_name": "Python 3",
   "language": "python",
   "name": "python3"
  },
  "language_info": {
   "codemirror_mode": {
    "name": "ipython",
    "version": 3
   },
   "file_extension": ".py",
   "mimetype": "text/x-python",
   "name": "python",
   "nbconvert_exporter": "python",
   "pygments_lexer": "ipython3",
   "version": "3.11.2"
  },
  "orig_nbformat": 4
 },
 "nbformat": 4,
 "nbformat_minor": 2
}
